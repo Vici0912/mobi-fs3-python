{
 "cells": [
  {
   "cell_type": "markdown",
   "metadata": {},
   "source": [
    "# <a id=\"#\">Task 1.4 – Writing loops in Python</a>"
   ]
  },
  {
   "cell_type": "markdown",
   "metadata": {},
   "source": [
    "**<a id=\"#\">Task 1.4.1.</a>** Use a `while`-loop to write the numbers from 5 to 15.\n",
    "\n",
    "**Hint:** The Syntax of a `while`-loop is\n",
    "```python\n",
    "while condition:\n",
    "    operation\n",
    "```\n",
    "\n",
    "Example:\n",
    "```python\n",
    "i = 0\n",
    "while i < 10:\n",
    "    print(i)\n",
    "    i = i + 1\n",
    "```\n",
    "\n",
    "**Hint:** Variables and text can be printed using `print`, for example:\n",
    "```python\n",
    "print(i)\n",
    "print('The result is i=' + str(i))\n",
    "```\n",
    "\n",
    "**Hint:** If your code cell keeps running seemingly forever, you have probably produced an *infinite loop*. In that case, you can interrupt the execution of the code cell by clicking the □ button which appears right to the left of the executed cell, and then fix the problem. If the □ button does not appear, try clicking the cell first!"
   ]
  },
  {
   "cell_type": "code",
   "execution_count": 15,
   "metadata": {},
   "outputs": [
    {
     "name": "stdout",
     "output_type": "stream",
     "text": [
      "5\n",
      "6\n",
      "7\n",
      "8\n",
      "9\n",
      "10\n",
      "11\n",
      "12\n",
      "13\n",
      "14\n",
      "15\n"
     ]
    }
   ],
   "source": [
    "i  = 5\n",
    "while i < 16:\n",
    "    print (i)\n",
    "    i = i + 1\n",
    "\n",
    "    "
   ]
  },
  {
   "cell_type": "markdown",
   "metadata": {},
   "source": [
    "<div class=\"alert alert-block alert-success\"><b>Hint:</b> Now might be a good moment to commit and push your progress :) preferably, you should be doing this <em>at least</em> after completing each task. It doesn't harm if you do it sometimes in between too, e.g., when you feel like you have had some significant progress with a task.</div>"
   ]
  },
  {
   "cell_type": "markdown",
   "metadata": {},
   "source": [
    "**<a id=\"#\">Task 1.4.2.</a>** Use a `while`-loop to compute and write the squares of the numbers from 1 to 20. The result should be shown like:\n",
    "```\n",
    "1 -> 1\n",
    "2 -> 4\n",
    "3 -> 9\n",
    "…\n",
    "20 -> 400\n",
    "```\n",
    "**Hint:** Square of a number `i` can be computed by `i ** 2` or `i * i`."
   ]
  },
  {
   "cell_type": "code",
   "execution_count": 38,
   "metadata": {},
   "outputs": [
    {
     "name": "stdout",
     "output_type": "stream",
     "text": [
      "1->1\n",
      "2->4\n",
      "3->9\n",
      "4->16\n",
      "5->25\n",
      "6->36\n",
      "7->49\n",
      "8->64\n",
      "9->81\n",
      "10->100\n",
      "11->121\n",
      "12->144\n",
      "13->169\n",
      "14->196\n",
      "15->225\n",
      "16->256\n",
      "17->289\n",
      "18->324\n",
      "19->361\n",
      "20->400\n"
     ]
    }
   ],
   "source": [
    "i  = 1 \n",
    "while i < 21:\n",
    "    print (f'{i}' + '->' + f'{i * i}')\n",
    "    i = i + 1\n",
    "\n"
   ]
  },
  {
   "cell_type": "markdown",
   "metadata": {},
   "source": [
    "**<a id=\"#\">Task 1.4.3.</a>** Copy your solution from **Task 1.4.2** and modify the code such that *the squares are only computed for even numbers*."
   ]
  },
  {
   "cell_type": "code",
   "execution_count": 40,
   "metadata": {},
   "outputs": [
    {
     "name": "stdout",
     "output_type": "stream",
     "text": [
      "2->4\n",
      "4->16\n",
      "6->36\n",
      "8->64\n",
      "10->100\n",
      "12->144\n",
      "14->196\n",
      "16->256\n",
      "18->324\n",
      "20->400\n"
     ]
    }
   ],
   "source": [
    "i  = 2 \n",
    "while i < 21:\n",
    "    print (f'{i}' + '->' + f'{i * i}')\n",
    "    i = i + 2"
   ]
  },
  {
   "cell_type": "markdown",
   "metadata": {},
   "source": [
    "**<a id=\"#\">Task 1.4.4.</a>** Use a `for`-loop to compute the sum of the numbers from 1 to 100. The correct result would be 5050.\n",
    "\n",
    "**Hint:** The Syntax of a `for`-loop is\n",
    "```python\n",
    "for i in iterable:\n",
    "    operation\n",
    "```\n",
    "\n",
    "Example:\n",
    "```python\n",
    "for i in [1, 2, 3, 4, 5, 6, 7, 8, 9, 10]:\n",
    "    print(i)\n",
    "```\n",
    "\n",
    "**Hint:** An `iterable` sequence of numbers from `i` (inclusive) to `j` (exclusive) can be constructed using `range(i, j)`."
   ]
  },
  {
   "cell_type": "code",
   "execution_count": 58,
   "metadata": {},
   "outputs": [
    {
     "name": "stdout",
     "output_type": "stream",
     "text": [
      "5050\n"
     ]
    }
   ],
   "source": [
    "print(sum(range(1,101)))"
   ]
  },
  {
   "cell_type": "markdown",
   "metadata": {},
   "source": [
    "**<a id=\"#\">Task 1.4.5.</a>** Generate the times table (\"Kleines Einmaleins\") by using two nested for loops, i.e., using an outer and an inner loop. The result should be shown like:\n",
    "```\n",
    "1 2 3 … 10\n",
    "2 4 6 … 20\n",
    "3 6 9 … 30\n",
    "…\n",
    "10 20 30 … 100\n",
    "```\n",
    "\n",
    "**Hint:** The function `print(s, end='')` works like `print(s)` but does *not* append a line break (as `print(s)` does)."
   ]
  },
  {
   "cell_type": "code",
   "execution_count": 90,
   "metadata": {},
   "outputs": [
    {
     "name": "stdout",
     "output_type": "stream",
     "text": [
      "1 2 3 4 5 6 7 8 9 10 \n",
      "2 4 6 8 10 12 14 16 18 20 \n",
      "3 6 9 12 15 18 21 24 27 30 \n",
      "4 8 12 16 20 24 28 32 36 40 \n",
      "5 10 15 20 25 30 35 40 45 50 \n",
      "6 12 18 24 30 36 42 48 54 60 \n",
      "7 14 21 28 35 42 49 56 63 70 \n",
      "8 16 24 32 40 48 56 64 72 80 \n",
      "9 18 27 36 45 54 63 72 81 90 \n",
      "10 20 30 40 50 60 70 80 90 100 \n"
     ]
    }
   ],
   "source": [
    "for s in range(1,11):\n",
    "    for g in range (1,11): \n",
    "        print(str(s*g), end=' ')\n",
    "    print()\n",
    "\n",
    " "
   ]
  },
  {
   "cell_type": "markdown",
   "metadata": {},
   "source": [
    "**<a id=\"#\">Task 1.4.6.</a>** Copy your solution from **Task 1.4.5** and modify the code such that *values below 10 in the times table have a leading zero* (e.g., `05` instead of only `5`). This can be achieved, for example, by using an `if`-statement.\n",
    "\n",
    "**Hint:** The Syntax of an `if`-statement is\n",
    "```python\n",
    "if condition:\n",
    "    operation1\n",
    "else:\n",
    "    operation2\n",
    "```\n",
    "\n",
    "Example:\n",
    "```python\n",
    "if val < 5:\n",
    "    print('val is less than 5')\n",
    "else:\n",
    "    print('val is larger or equal 5')\n",
    "```"
   ]
  },
  {
   "cell_type": "code",
   "execution_count": 98,
   "metadata": {},
   "outputs": [
    {
     "name": "stdout",
     "output_type": "stream",
     "text": [
      "01 "
     ]
    },
    {
     "ename": "TypeError",
     "evalue": "'<' not supported between instances of 'str' and 'int'",
     "output_type": "error",
     "traceback": [
      "\u001b[0;31m---------------------------------------------------------------------------\u001b[0m",
      "\u001b[0;31mTypeError\u001b[0m                                 Traceback (most recent call last)",
      "Cell \u001b[0;32mIn[98], line 3\u001b[0m\n\u001b[1;32m      1\u001b[0m \u001b[38;5;28;01mfor\u001b[39;00m s \u001b[38;5;129;01min\u001b[39;00m \u001b[38;5;28mrange\u001b[39m(\u001b[38;5;241m1\u001b[39m,\u001b[38;5;241m11\u001b[39m):\n\u001b[1;32m      2\u001b[0m     \u001b[38;5;28;01mfor\u001b[39;00m g \u001b[38;5;129;01min\u001b[39;00m \u001b[38;5;28mrange\u001b[39m (\u001b[38;5;241m1\u001b[39m,\u001b[38;5;241m11\u001b[39m): \n\u001b[0;32m----> 3\u001b[0m         \u001b[38;5;28;01mif\u001b[39;00m \u001b[43ms\u001b[49m\u001b[43m \u001b[49m\u001b[38;5;241;43m<\u001b[39;49m\u001b[43m \u001b[49m\u001b[38;5;241;43m11\u001b[39;49m:\n\u001b[1;32m      4\u001b[0m             s \u001b[38;5;241m=\u001b[39m \u001b[38;5;124m'\u001b[39m\u001b[38;5;124m0\u001b[39m\u001b[38;5;124m'\u001b[39m \u001b[38;5;241m+\u001b[39m \u001b[38;5;124mf\u001b[39m\u001b[38;5;124m'\u001b[39m\u001b[38;5;132;01m{\u001b[39;00ms\u001b[38;5;132;01m}\u001b[39;00m\u001b[38;5;124m'\u001b[39m \n\u001b[1;32m      5\u001b[0m             \u001b[38;5;28mprint\u001b[39m(\u001b[38;5;28mstr\u001b[39m(s\u001b[38;5;241m*\u001b[39mg), end\u001b[38;5;241m=\u001b[39m\u001b[38;5;124m'\u001b[39m\u001b[38;5;124m \u001b[39m\u001b[38;5;124m'\u001b[39m)\n",
      "\u001b[0;31mTypeError\u001b[0m: '<' not supported between instances of 'str' and 'int'"
     ]
    }
   ],
   "source": [
    "for s in range(1,11):\n",
    "    for g in range (1,11): \n",
    "        if s < 11:\n",
    "            s = '0' + f'{s}' \n",
    "            print(str(s*g), end=' ')\n",
    "    print()\n"
   ]
  }
 ],
 "metadata": {
  "kernelspec": {
   "display_name": "Python 3",
   "language": "python",
   "name": "python3"
  },
  "language_info": {
   "codemirror_mode": {
    "name": "ipython",
    "version": 3
   },
   "file_extension": ".py",
   "mimetype": "text/x-python",
   "name": "python",
   "nbconvert_exporter": "python",
   "pygments_lexer": "ipython3",
   "version": "3.11.6"
  }
 },
 "nbformat": 4,
 "nbformat_minor": 2
}
