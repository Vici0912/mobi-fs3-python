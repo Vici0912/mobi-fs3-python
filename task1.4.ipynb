{
 "cells": [
  {
   "cell_type": "markdown",
   "metadata": {},
   "source": [
    "# <a id=\"#\">Task 1.4 – Writing loops in Python</a>"
   ]
  },
  {
   "cell_type": "markdown",
   "metadata": {},
   "source": [
    "**<a id=\"#\">Task 1.4.1.</a>** Use a `while`-loop to write the numbers from 5 to 15.\n",
    "\n",
    "**Hint:** The Syntax of a `while`-loop is\n",
    "```python\n",
    "while condition:\n",
    "    operation\n",
    "```\n",
    "\n",
    "Example:\n",
    "```python\n",
    "i = 0\n",
    "while i < 10:\n",
    "    print(i)\n",
    "    i = i + 1\n",
    "```\n",
    "\n",
    "**Hint:** Variables and text can be printed using `print`, for example:\n",
    "```python\n",
    "print(i)\n",
    "print('The result is i=' + str(i))\n",
    "```\n",
    "\n",
    "**Hint:** If your code cell keeps running seemingly forever, you have probably produced an *infinite loop*. In that case, you can interrupt the execution of the code cell by clicking the □ button which appears right to the left of the executed cell, and then fix the problem. If the □ button does not appear, try clicking the cell first!"
   ]
  },
  {
   "cell_type": "code",
   "execution_count": 15,
   "metadata": {},
   "outputs": [
    {
     "name": "stdout",
     "output_type": "stream",
     "text": [
      "5\n",
      "6\n",
      "7\n",
      "8\n",
      "9\n",
      "10\n",
      "11\n",
      "12\n",
      "13\n",
      "14\n",
      "15\n"
     ]
    }
   ],
   "source": [
    "i  = 5\n",
    "while i < 16:\n",
    "    print (i)\n",
    "    i = i + 1\n",
    "\n",
    "    "
   ]
  },
  {
   "cell_type": "markdown",
   "metadata": {},
   "source": [
    "<div class=\"alert alert-block alert-success\"><b>Hint:</b> Now might be a good moment to commit and push your progress :) preferably, you should be doing this <em>at least</em> after completing each task. It doesn't harm if you do it sometimes in between too, e.g., when you feel like you have had some significant progress with a task.</div>"
   ]
  },
  {
   "cell_type": "markdown",
   "metadata": {},
   "source": [
    "**<a id=\"#\">Task 1.4.2.</a>** Use a `while`-loop to compute and write the squares of the numbers from 1 to 20. The result should be shown like:\n",
    "```\n",
    "1 -> 1\n",
    "2 -> 4\n",
    "3 -> 9\n",
    "…\n",
    "20 -> 400\n",
    "```\n",
    "**Hint:** Square of a number `i` can be computed by `i ** 2` or `i * i`."
   ]
  },
  {
   "cell_type": "code",
   "execution_count": 38,
   "metadata": {},
   "outputs": [
    {
     "name": "stdout",
     "output_type": "stream",
     "text": [
      "1->1\n",
      "2->4\n",
      "3->9\n",
      "4->16\n",
      "5->25\n",
      "6->36\n",
      "7->49\n",
      "8->64\n",
      "9->81\n",
      "10->100\n",
      "11->121\n",
      "12->144\n",
      "13->169\n",
      "14->196\n",
      "15->225\n",
      "16->256\n",
      "17->289\n",
      "18->324\n",
      "19->361\n",
      "20->400\n"
     ]
    }
   ],
   "source": [
    "i  = 1 \n",
    "while i < 21:\n",
    "    print (f'{i}' + '->' + f'{i * i}')\n",
    "    i = i + 1\n",
    "\n"
   ]
  },
  {
   "cell_type": "markdown",
   "metadata": {},
   "source": [
    "**<a id=\"#\">Task 1.4.3.</a>** Copy your solution from **Task 1.4.2** and modify the code such that *the squares are only computed for even numbers*."
   ]
  },
  {
   "cell_type": "code",
   "execution_count": null,
   "metadata": {},
   "outputs": [],
   "source": []
  },
  {
   "cell_type": "markdown",
   "metadata": {},
   "source": [
    "**<a id=\"#\">Task 1.4.4.</a>** Use a `for`-loop to compute the sum of the numbers from 1 to 100. The correct result would be 5050.\n",
    "\n",
    "**Hint:** The Syntax of a `for`-loop is\n",
    "```python\n",
    "for i in iterable:\n",
    "    operation\n",
    "```\n",
    "\n",
    "Example:\n",
    "```python\n",
    "for i in [1, 2, 3, 4, 5, 6, 7, 8, 9, 10]:\n",
    "    print(i)\n",
    "```\n",
    "\n",
    "**Hint:** An `iterable` sequence of numbers from `i` (inclusive) to `j` (exclusive) can be constructed using `range(i, j)`."
   ]
  },
  {
   "cell_type": "code",
   "execution_count": null,
   "metadata": {},
   "outputs": [],
   "source": []
  },
  {
   "cell_type": "markdown",
   "metadata": {},
   "source": [
    "**<a id=\"#\">Task 1.4.5.</a>** Generate the times table (\"Kleines Einmaleins\") by using two nested for loops, i.e., using an outer and an inner loop. The result should be shown like:\n",
    "```\n",
    "1 2 3 … 10\n",
    "2 4 6 … 20\n",
    "3 6 9 … 30\n",
    "…\n",
    "10 20 30 … 100\n",
    "```\n",
    "\n",
    "**Hint:** The function `print(s, end='')` works like `print(s)` but does *not* append a line break (as `print(s)` does)."
   ]
  },
  {
   "cell_type": "code",
   "execution_count": null,
   "metadata": {},
   "outputs": [],
   "source": []
  },
  {
   "cell_type": "markdown",
   "metadata": {},
   "source": [
    "**<a id=\"#\">Task 1.4.6.</a>** Copy your solution from **Task 1.4.5** and modify the code such that *values below 10 in the times table have a leading zero* (e.g., `05` instead of only `5`). This can be achieved, for example, by using an `if`-statement.\n",
    "\n",
    "**Hint:** The Syntax of an `if`-statement is\n",
    "```python\n",
    "if condition:\n",
    "    operation1\n",
    "else:\n",
    "    operation2\n",
    "```\n",
    "\n",
    "Example:\n",
    "```python\n",
    "if val < 5:\n",
    "    print('val is less than 5')\n",
    "else:\n",
    "    print('val is larger or equal 5')\n",
    "```"
   ]
  },
  {
   "cell_type": "code",
   "execution_count": null,
   "metadata": {},
   "outputs": [],
   "source": []
  }
 ],
 "metadata": {
  "kernelspec": {
   "display_name": "Python 3",
   "language": "python",
   "name": "python3"
  },
  "language_info": {
   "codemirror_mode": {
    "name": "ipython",
    "version": 3
   },
   "file_extension": ".py",
   "mimetype": "text/x-python",
   "name": "python",
   "nbconvert_exporter": "python",
   "pygments_lexer": "ipython3",
   "version": "3.11.6"
  }
 },
 "nbformat": 4,
 "nbformat_minor": 2
}
